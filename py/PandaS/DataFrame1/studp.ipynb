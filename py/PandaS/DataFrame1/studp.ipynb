{
 "cells": [
  {
   "cell_type": "code",
   "execution_count": 28,
   "outputs": [],
   "source": [
    "import pandas as pd\n",
    "from PandaS import root_path\n",
    "\n",
    "df = pd.read_csv(filepath_or_buffer=f\"{root_path}/data/products.csv\")"
   ],
   "metadata": {
    "collapsed": false,
    "pycharm": {
     "name": "#%%\n"
    }
   }
  },
  {
   "cell_type": "code",
   "execution_count": 29,
   "outputs": [
    {
     "name": "stdout",
     "output_type": "stream",
     "text": [
      "                                                 product_name  aisle_id  \\\n",
      "product_id                                                                \n",
      "1                                  Chocolate Sandwich Cookies        61   \n",
      "2                                            All-Seasons Salt       104   \n",
      "3                        Robust Golden Unsweetened Oolong Tea        94   \n",
      "4           Smart Ones Classic Favorites Mini Rigatoni Wit...        38   \n",
      "5                                   Green Chile Anytime Sauce         5   \n",
      "6                                                Dry Nose Oil        11   \n",
      "7                              Pure Coconut Water With Orange        98   \n",
      "8                           Cut Russet Potatoes Steam N' Mash       116   \n",
      "9                           Light Strawberry Blueberry Yogurt       120   \n",
      "10             Sparkling Orange Juice & Prickly Pear Beverage       115   \n",
      "\n",
      "            department_id  \n",
      "product_id                 \n",
      "1                      19  \n",
      "2                      13  \n",
      "3                       7  \n",
      "4                       1  \n",
      "5                      13  \n",
      "6                      11  \n",
      "7                       7  \n",
      "8                       1  \n",
      "9                      16  \n",
      "10                      7  \n"
     ]
    }
   ],
   "source": [
    "# print(df.index)\n",
    "# print(df.columns)  #Index(['product_id', 'product_name', 'aisle_id', 'department_id'], dtype='object')\n",
    "# print(df.shape)\n",
    "\n",
    "df.set_index(\"product_id\", inplace=True)  # 重置列名\n",
    "\n",
    "print(df[[\"product_name\", \"aisle_id\", \"department_id\"]].loc[1:10])"
   ],
   "metadata": {
    "collapsed": false,
    "pycharm": {
     "name": "#%%\n"
    }
   }
  },
  {
   "cell_type": "code",
   "execution_count": 30,
   "outputs": [
    {
     "name": "stdout",
     "output_type": "stream",
     "text": [
      "                                             product_name  aisle_id  \\\n",
      "product_id                                                            \n",
      "1                              Chocolate Sandwich Cookies        61   \n",
      "100               Peanut Butter & Strawberry Jam Sandwich        38   \n",
      "300               Organic Enriched Unbleached White Flour        17   \n",
      "200         Radiant Pantiliners Regular Wrapped Unscented       126   \n",
      "\n",
      "            department_id  \n",
      "product_id                 \n",
      "1                      19  \n",
      "100                     1  \n",
      "300                    13  \n",
      "200                    11  \n"
     ]
    }
   ],
   "source": [
    "print(df.loc[[1, 100, 300, 200]])  # 指定行"
   ],
   "metadata": {
    "collapsed": false,
    "pycharm": {
     "name": "#%%\n"
    }
   }
  },
  {
   "cell_type": "code",
   "execution_count": 31,
   "outputs": [
    {
     "name": "stdout",
     "output_type": "stream",
     "text": [
      "table2 type ----- object \n",
      " product_id\n",
      "1                         Chocolate--Sandwich--Cookies\n",
      "2                                    All-Seasons--Salt\n",
      "3             Robust--Golden--Unsweetened--Oolong--Tea\n",
      "4    Smart--Ones--Classic--Favorites--Mini--Rigaton...\n",
      "5                         Green--Chile--Anytime--Sauce\n",
      "Name: product_name, dtype: object\n"
     ]
    }
   ],
   "source": [
    "# table=df.loc[:10].loc[1:][[\"product_name\",\"aisle_id\"]]\n",
    "#\n",
    "# print(table)\n",
    "\n",
    "table2 = df.loc[1:5, \"product_name\"] \\\n",
    "    .str.replace(\" \", \"--\")  # 区间行\n",
    "print(f\"table2 type ----- {table2.dtype} \\n {table2}\")"
   ],
   "metadata": {
    "collapsed": false,
    "pycharm": {
     "name": "#%%\n"
    }
   }
  },
  {
   "cell_type": "code",
   "execution_count": 32,
   "outputs": [
    {
     "name": "stdout",
     "output_type": "stream",
     "text": [
      "table3 type -----  \n",
      "                                     product_name\n",
      "product_id                                      \n",
      "1                     Chocolate Sandwich Cookies\n",
      "2                               All-Seasons Salt\n",
      "3           Robust Golden Unsweetened Oolong Tea\n",
      "7                 Pure Coconut Water With Orange\n"
     ]
    }
   ],
   "source": [
    "table3 = df.loc[[1, 2, 3, 7], [\"product_name\"]]\n",
    "print(f\"table3 type -----  \\n {table3}\")"
   ],
   "metadata": {
    "collapsed": false,
    "pycharm": {
     "name": "#%%\n"
    }
   }
  },
  {
   "cell_type": "code",
   "execution_count": 33,
   "outputs": [
    {
     "name": "stdout",
     "output_type": "stream",
     "text": [
      "Empty DataFrame\n",
      "Columns: [product_name, aisle_id, department_id]\n",
      "Index: []\n"
     ]
    }
   ],
   "source": [
    "t4 = df.loc[(df[\"department_id\"] == 19) & (2 == 1)]  # 条件查找\n",
    "print(t4)"
   ],
   "metadata": {
    "collapsed": false,
    "pycharm": {
     "name": "#%%\n"
    }
   }
  },
  {
   "cell_type": "code",
   "execution_count": 40,
   "outputs": [
    {
     "name": "stdout",
     "output_type": "stream",
     "text": [
      "            aisle_id                                   product_name  \\\n",
      "product_id                                                            \n",
      "49                14  Vegetarian Grain Meat Sausages Italian - 4 CT   \n",
      "62                96        Premium Deli Oven Roasted Turkey Breast   \n",
      "74                14                Artisan Chick'n & Apple Sausage   \n",
      "85                96                           Soppressata Piccante   \n",
      "109               13                         Grape Leaf Hummus Wrap   \n",
      "...              ...                                            ...   \n",
      "49554             67                          Roasted Garlic Hommus   \n",
      "49560             96    Selects Natural Slow Roasted Chicken Breast   \n",
      "49581             13                   Pinto Bean and Cheese Pupusa   \n",
      "49605             67                     Classic Hummus Family Size   \n",
      "49638             14           Organic Superfirm Vacuum Packed Tofu   \n",
      "\n",
      "            department_id  \n",
      "product_id                 \n",
      "49                     20  \n",
      "62                     20  \n",
      "74                     20  \n",
      "85                     20  \n",
      "109                    20  \n",
      "...                   ...  \n",
      "49554                  20  \n",
      "49560                  20  \n",
      "49581                  20  \n",
      "49605                  20  \n",
      "49638                  20  \n",
      "\n",
      "[1322 rows x 3 columns]\n"
     ]
    }
   ],
   "source": [
    "t5 = df.loc[lambda df: (df[\"department_id\"] == 20) & (2 == 2)]  # 函数查询\n",
    "t6=df.loc[df[\"department_id\"]\n",
    "              .apply(lambda x:x==20 and 2==2),\n",
    "          [\"aisle_id\",\"product_name\",\"department_id\"]]\n",
    "\n",
    "print(t6)\n",
    "\n",
    "\n",
    "\n",
    "if __name__ == '__main__':\n",
    "    pass\n"
   ],
   "metadata": {
    "collapsed": false,
    "pycharm": {
     "name": "#%%\n"
    }
   }
  }
 ],
 "metadata": {
  "kernelspec": {
   "display_name": "Python 3",
   "language": "python",
   "name": "python3"
  },
  "language_info": {
   "codemirror_mode": {
    "name": "ipython",
    "version": 3
   },
   "file_extension": ".py",
   "mimetype": "text/x-python",
   "name": "python",
   "nbconvert_exporter": "python",
   "pygments_lexer": "ipython3",
   "version": "3.8.3"
  }
 },
 "nbformat": 4,
 "nbformat_minor": 4
}